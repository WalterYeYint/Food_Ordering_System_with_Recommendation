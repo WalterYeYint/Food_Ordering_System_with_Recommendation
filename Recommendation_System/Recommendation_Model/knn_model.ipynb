{
 "cells": [
  {
   "cell_type": "code",
   "execution_count": 90,
   "metadata": {},
   "outputs": [],
   "source": [
    "import mysql.connector as connection\n",
    "import pandas as pd\n",
    "import numpy as np"
   ]
  },
  {
   "cell_type": "code",
   "execution_count": 5,
   "metadata": {},
   "outputs": [],
   "source": [
    "# Establish connection with MySQL DB\n",
    "mydb = connection.connect(host=\"localhost\", port=\"3306\", user=\"root\", password=\"\", database=\"food_ordering_db\")"
   ]
  },
  {
   "cell_type": "code",
   "execution_count": 50,
   "metadata": {},
   "outputs": [
    {
     "name": "stdout",
     "output_type": "stream",
     "text": [
      "   foodID  restaurantID                      foodName  price\n",
      "0       1             1  Mala Grilled Burmese Chicken  10000\n",
      "1       2             1             Mala French Fries   3500\n",
      "2       3             1         Rakhine Seafood Salad   6000\n",
      "3       4             1           Steamed Chicken Leg   5000\n",
      "4       5             1            Mala Grilled Prawn  12000\n",
      "   userID firstName lastName\n",
      "0       1     James    Smith\n",
      "1       2   Michael    Smith\n",
      "2       3    Robert    Smith\n",
      "3       4     David    Smith\n",
      "4       5     James  Johnson\n"
     ]
    }
   ],
   "source": [
    "# Accessing food table\n",
    "query = \"\"\"Select *\n",
    "\t\t\t\t\t\tFROM `food`;\"\"\"\n",
    "food = pd.read_sql(query,mydb)\n",
    "print(food.head())\n",
    "\n",
    "# Accessing user table\n",
    "query = \"\"\"Select *\n",
    "\t\t\t\t\t\tFROM `user`;\"\"\"\n",
    "users = pd.read_sql(query,mydb)\n",
    "print(users.head())"
   ]
  },
  {
   "cell_type": "code",
   "execution_count": 11,
   "metadata": {},
   "outputs": [
    {
     "name": "stdout",
     "output_type": "stream",
     "text": [
      "   orderID  foodID  userID\n",
      "0        1    3600      80\n",
      "1        2     461     191\n",
      "2        3     858     315\n",
      "3        4    6772     269\n",
      "4        5    3112     264\n",
      "['orderID', 'foodID', 'userID']\n"
     ]
    }
   ],
   "source": [
    "# Accessing userID and foodID data with ratings\n",
    "query = \"\"\"Select o.orderID, o.foodID, c.userID \n",
    "\t\t\t\t\t\tFROM `order` o, `cart` c\n",
    "\t\t\t\t\t\tWHERE o.cartID = c.cartID;\"\"\"\n",
    "orders = pd.read_sql(query,mydb)\n",
    "print(orders.head())\n",
    "print(list(orders.columns))"
   ]
  },
  {
   "cell_type": "code",
   "execution_count": 95,
   "metadata": {},
   "outputs": [
    {
     "data": {
      "text/html": [
       "<div>\n",
       "<style scoped>\n",
       "    .dataframe tbody tr th:only-of-type {\n",
       "        vertical-align: middle;\n",
       "    }\n",
       "\n",
       "    .dataframe tbody tr th {\n",
       "        vertical-align: top;\n",
       "    }\n",
       "\n",
       "    .dataframe thead th {\n",
       "        text-align: right;\n",
       "    }\n",
       "</style>\n",
       "<table border=\"1\" class=\"dataframe\">\n",
       "  <thead>\n",
       "    <tr style=\"text-align: right;\">\n",
       "      <th></th>\n",
       "      <th>orderID</th>\n",
       "      <th>foodID</th>\n",
       "      <th>userID</th>\n",
       "      <th>restaurantID</th>\n",
       "      <th>foodName</th>\n",
       "      <th>price</th>\n",
       "    </tr>\n",
       "  </thead>\n",
       "  <tbody>\n",
       "    <tr>\n",
       "      <th>0</th>\n",
       "      <td>1</td>\n",
       "      <td>3600</td>\n",
       "      <td>80</td>\n",
       "      <td>119</td>\n",
       "      <td>Pounded Rice Noodle</td>\n",
       "      <td>1500</td>\n",
       "    </tr>\n",
       "    <tr>\n",
       "      <th>1</th>\n",
       "      <td>2</td>\n",
       "      <td>461</td>\n",
       "      <td>191</td>\n",
       "      <td>16</td>\n",
       "      <td>Maocai</td>\n",
       "      <td>5000</td>\n",
       "    </tr>\n",
       "    <tr>\n",
       "      <th>2</th>\n",
       "      <td>3</td>\n",
       "      <td>858</td>\n",
       "      <td>315</td>\n",
       "      <td>38</td>\n",
       "      <td>ပြည်ကြီးငါးသုပ် ယိုးဒယားစတိုင်လ်</td>\n",
       "      <td>3000</td>\n",
       "    </tr>\n",
       "    <tr>\n",
       "      <th>3</th>\n",
       "      <td>4</td>\n",
       "      <td>6772</td>\n",
       "      <td>269</td>\n",
       "      <td>220</td>\n",
       "      <td>Fresh Springrolls With Shrimp</td>\n",
       "      <td>4300</td>\n",
       "    </tr>\n",
       "    <tr>\n",
       "      <th>4</th>\n",
       "      <td>5</td>\n",
       "      <td>3112</td>\n",
       "      <td>264</td>\n",
       "      <td>103</td>\n",
       "      <td>Mixed Grills Mala Xiang Guo</td>\n",
       "      <td>3000</td>\n",
       "    </tr>\n",
       "  </tbody>\n",
       "</table>\n",
       "</div>"
      ],
      "text/plain": [
       "   orderID  foodID  userID  restaurantID                          foodName  \\\n",
       "0        1    3600      80           119               Pounded Rice Noodle   \n",
       "1        2     461     191            16                            Maocai   \n",
       "2        3     858     315            38  ပြည်ကြီးငါးသုပ် ယိုးဒယားစတိုင်လ်   \n",
       "3        4    6772     269           220     Fresh Springrolls With Shrimp   \n",
       "4        5    3112     264           103       Mixed Grills Mala Xiang Guo   \n",
       "\n",
       "   price  \n",
       "0   1500  \n",
       "1   5000  \n",
       "2   3000  \n",
       "3   4300  \n",
       "4   3000  "
      ]
     },
     "execution_count": 95,
     "metadata": {},
     "output_type": "execute_result"
    }
   ],
   "source": [
    "# Merge order and food queries\n",
    "combine_food_order = pd.merge(orders, food, on=\"foodID\")\n",
    "combine_food_order.head()"
   ]
  },
  {
   "cell_type": "code",
   "execution_count": 99,
   "metadata": {},
   "outputs": [
    {
     "name": "stdout",
     "output_type": "stream",
     "text": [
      "Amount of unique foodIDs - 179\n",
      "Amount of unique userIDs - 77\n"
     ]
    }
   ],
   "source": [
    "print(f'Amount of unique foodIDs - {len(pd.unique(combine_food_order[\"foodID\"]))}')\n",
    "print(f'Amount of unique userIDs - {len(pd.unique(combine_food_order[\"userID\"]))}')"
   ]
  },
  {
   "cell_type": "code",
   "execution_count": 84,
   "metadata": {},
   "outputs": [],
   "source": [
    "with open(\"combined_food_order\" + \".csv\", \"w\") as f:\n",
    "\tf.write(combine_food_order.to_csv())"
   ]
  },
  {
   "cell_type": "markdown",
   "metadata": {},
   "source": [
    "Getting the number of times food was ordered"
   ]
  },
  {
   "cell_type": "code",
   "execution_count": 77,
   "metadata": {},
   "outputs": [
    {
     "data": {
      "text/html": [
       "<div>\n",
       "<style scoped>\n",
       "    .dataframe tbody tr th:only-of-type {\n",
       "        vertical-align: middle;\n",
       "    }\n",
       "\n",
       "    .dataframe tbody tr th {\n",
       "        vertical-align: top;\n",
       "    }\n",
       "\n",
       "    .dataframe thead th {\n",
       "        text-align: right;\n",
       "    }\n",
       "</style>\n",
       "<table border=\"1\" class=\"dataframe\">\n",
       "  <thead>\n",
       "    <tr style=\"text-align: right;\">\n",
       "      <th></th>\n",
       "      <th>foodID</th>\n",
       "      <th>totalCount</th>\n",
       "    </tr>\n",
       "  </thead>\n",
       "  <tbody>\n",
       "    <tr>\n",
       "      <th>93</th>\n",
       "      <td>4385</td>\n",
       "      <td>2</td>\n",
       "    </tr>\n",
       "    <tr>\n",
       "      <th>63</th>\n",
       "      <td>2996</td>\n",
       "      <td>2</td>\n",
       "    </tr>\n",
       "    <tr>\n",
       "      <th>90</th>\n",
       "      <td>4030</td>\n",
       "      <td>3</td>\n",
       "    </tr>\n",
       "    <tr>\n",
       "      <th>73</th>\n",
       "      <td>3255</td>\n",
       "      <td>4</td>\n",
       "    </tr>\n",
       "    <tr>\n",
       "      <th>10</th>\n",
       "      <td>464</td>\n",
       "      <td>5</td>\n",
       "    </tr>\n",
       "  </tbody>\n",
       "</table>\n",
       "</div>"
      ],
      "text/plain": [
       "    foodID  totalCount\n",
       "93    4385           2\n",
       "63    2996           2\n",
       "90    4030           3\n",
       "73    3255           4\n",
       "10     464           5"
      ]
     },
     "execution_count": 77,
     "metadata": {},
     "output_type": "execute_result"
    }
   ],
   "source": [
    "# combine_food_order = combine_food_order.dropna(axis = 0, subset = ['bookTitle'])\n",
    "food_order_count = (combine_food_order.\n",
    "     groupby(by = [\"foodID\"]).\n",
    "     count().\n",
    "     reset_index().\n",
    "     sort_values(by = [\"orderID\"]).\n",
    "     rename(columns = {\"orderID\": \"totalCount\"})\n",
    "     [[\"foodID\", \"totalCount\"]]\n",
    "     )\n",
    "food_order_count.tail()"
   ]
  },
  {
   "cell_type": "code",
   "execution_count": 78,
   "metadata": {},
   "outputs": [
    {
     "name": "stdout",
     "output_type": "stream",
     "text": [
      "count   179.000\n",
      "mean      1.117\n",
      "std       0.465\n",
      "min       1.000\n",
      "25%       1.000\n",
      "50%       1.000\n",
      "75%       1.000\n",
      "max       5.000\n",
      "Name: totalCount, dtype: float64\n"
     ]
    }
   ],
   "source": [
    "pd.set_option('display.float_format', lambda x: '%.3f' % x)\n",
    "print(food_order_count[\"totalCount\"].describe())"
   ]
  },
  {
   "cell_type": "code",
   "execution_count": 85,
   "metadata": {},
   "outputs": [
    {
     "data": {
      "text/html": [
       "<div>\n",
       "<style scoped>\n",
       "    .dataframe tbody tr th:only-of-type {\n",
       "        vertical-align: middle;\n",
       "    }\n",
       "\n",
       "    .dataframe tbody tr th {\n",
       "        vertical-align: top;\n",
       "    }\n",
       "\n",
       "    .dataframe thead th {\n",
       "        text-align: right;\n",
       "    }\n",
       "</style>\n",
       "<table border=\"1\" class=\"dataframe\">\n",
       "  <thead>\n",
       "    <tr style=\"text-align: right;\">\n",
       "      <th></th>\n",
       "      <th>orderID</th>\n",
       "      <th>foodID</th>\n",
       "      <th>userID</th>\n",
       "      <th>restaurantID</th>\n",
       "      <th>foodName</th>\n",
       "      <th>price</th>\n",
       "      <th>totalCount</th>\n",
       "      <th>has_ordered</th>\n",
       "    </tr>\n",
       "  </thead>\n",
       "  <tbody>\n",
       "    <tr>\n",
       "      <th>9</th>\n",
       "      <td>9</td>\n",
       "      <td>464</td>\n",
       "      <td>191</td>\n",
       "      <td>16</td>\n",
       "      <td>Water</td>\n",
       "      <td>500</td>\n",
       "      <td>5</td>\n",
       "      <td>1</td>\n",
       "    </tr>\n",
       "    <tr>\n",
       "      <th>10</th>\n",
       "      <td>68</td>\n",
       "      <td>464</td>\n",
       "      <td>191</td>\n",
       "      <td>16</td>\n",
       "      <td>Water</td>\n",
       "      <td>500</td>\n",
       "      <td>5</td>\n",
       "      <td>1</td>\n",
       "    </tr>\n",
       "    <tr>\n",
       "      <th>11</th>\n",
       "      <td>102</td>\n",
       "      <td>464</td>\n",
       "      <td>191</td>\n",
       "      <td>16</td>\n",
       "      <td>Water</td>\n",
       "      <td>500</td>\n",
       "      <td>5</td>\n",
       "      <td>1</td>\n",
       "    </tr>\n",
       "    <tr>\n",
       "      <th>12</th>\n",
       "      <td>104</td>\n",
       "      <td>464</td>\n",
       "      <td>191</td>\n",
       "      <td>16</td>\n",
       "      <td>Water</td>\n",
       "      <td>500</td>\n",
       "      <td>5</td>\n",
       "      <td>1</td>\n",
       "    </tr>\n",
       "    <tr>\n",
       "      <th>13</th>\n",
       "      <td>190</td>\n",
       "      <td>464</td>\n",
       "      <td>191</td>\n",
       "      <td>16</td>\n",
       "      <td>Water</td>\n",
       "      <td>500</td>\n",
       "      <td>5</td>\n",
       "      <td>1</td>\n",
       "    </tr>\n",
       "  </tbody>\n",
       "</table>\n",
       "</div>"
      ],
      "text/plain": [
       "    orderID  foodID  userID  restaurantID foodName  price  totalCount  \\\n",
       "9         9     464     191            16    Water    500           5   \n",
       "10       68     464     191            16    Water    500           5   \n",
       "11      102     464     191            16    Water    500           5   \n",
       "12      104     464     191            16    Water    500           5   \n",
       "13      190     464     191            16    Water    500           5   \n",
       "\n",
       "    has_ordered  \n",
       "9             1  \n",
       "10            1  \n",
       "11            1  \n",
       "12            1  \n",
       "13            1  "
      ]
     },
     "execution_count": 85,
     "metadata": {},
     "output_type": "execute_result"
    }
   ],
   "source": [
    "order_with_total_count = combine_food_order.merge(food_order_count, left_on = 'foodID', right_on = 'foodID', how = 'left')\n",
    "order_with_total_count[\"has_ordered\"] = 1\n",
    "order_with_total_count.loc[order_with_total_count[\"foodName\"] == \"Water\"]\n",
    "# order_with_total_count.head()"
   ]
  },
  {
   "cell_type": "code",
   "execution_count": 83,
   "metadata": {},
   "outputs": [],
   "source": [
    "with open(\"abcde\" + \".csv\", \"w\") as f:\n",
    "\tf.write(order_with_total_count.to_csv())"
   ]
  },
  {
   "cell_type": "code",
   "execution_count": 132,
   "metadata": {},
   "outputs": [
    {
     "data": {
      "text/plain": [
       "NearestNeighbors(algorithm='brute', metric='cosine')"
      ]
     },
     "execution_count": 132,
     "metadata": {},
     "output_type": "execute_result"
    }
   ],
   "source": [
    "from scipy.sparse import csr_matrix\n",
    "order_with_total_count = order_with_total_count.drop_duplicates(['userID', 'foodName'])\n",
    "order_with_total_count_pivot = order_with_total_count.pivot(index = 'foodName', columns = 'userID', values = 'has_ordered').fillna(0)\n",
    "order_with_total_count_matrix = csr_matrix(order_with_total_count_pivot.values)\n",
    "\n",
    "from sklearn.neighbors import NearestNeighbors\n",
    "\n",
    "\n",
    "model_knn = NearestNeighbors(metric = 'cosine', algorithm = 'brute')\n",
    "model_knn.fit(order_with_total_count_matrix)"
   ]
  },
  {
   "cell_type": "code",
   "execution_count": 136,
   "metadata": {},
   "outputs": [
    {
     "data": {
      "text/plain": [
       "array([[0., 0., 0., 0., 0., 0., 0., 0., 0., 0., 0., 0., 0., 0., 0., 0.,\n",
       "        0., 0., 0., 0., 0., 0., 0., 0., 0., 0., 0., 0., 0., 0., 0., 0.,\n",
       "        0., 0., 0., 0., 0., 0., 0., 0., 0., 0., 1., 0., 0., 0., 0., 0.,\n",
       "        0., 0., 0., 0., 0., 0., 0., 0., 0., 0., 0., 0., 0., 0., 0., 0.,\n",
       "        0., 0., 0., 0., 0., 0., 0., 0., 0., 0., 0., 0., 0.]])"
      ]
     },
     "execution_count": 136,
     "metadata": {},
     "output_type": "execute_result"
    }
   ],
   "source": [
    "# query_index = np.random.choice(order_with_total_count_pivot.shape[0])\n",
    "# print(query_index)\n",
    "query_index = 153\n",
    "distances, indices = model_knn.kneighbors(order_with_total_count_pivot.iloc[query_index,:].values.reshape(1, -1), n_neighbors = 6)\n",
    "\n",
    "order_with_total_count_pivot.iloc[query_index,:].values.reshape(1,-1)"
   ]
  },
  {
   "cell_type": "code",
   "execution_count": 137,
   "metadata": {},
   "outputs": [
    {
     "data": {
      "text/plain": [
       "'Tiramisu'"
      ]
     },
     "execution_count": 137,
     "metadata": {},
     "output_type": "execute_result"
    }
   ],
   "source": [
    "order_with_total_count_pivot.index[query_index]"
   ]
  },
  {
   "cell_type": "code",
   "execution_count": 138,
   "metadata": {},
   "outputs": [
    {
     "name": "stdout",
     "output_type": "stream",
     "text": [
      "Recommendations for Tiramisu:\n",
      "\n",
      "1: Kaw Yay Noodle, with distance of 0.0:\n",
      "2: Chicken Basil Rice, with distance of 0.0:\n",
      "3: ကြက်ချဉ်စပ်ထမင်း, with distance of 0.0:\n",
      "4: Tiramisu, with distance of 0.0:\n",
      "5: Rakhine Style Cucumber Salad, with distance of 1.0:\n"
     ]
    }
   ],
   "source": [
    "for i in range(0, len(distances.flatten())):\n",
    "    if i == 0:\n",
    "        print('Recommendations for {0}:\\n'.format(order_with_total_count_pivot.index[query_index]))\n",
    "    else:\n",
    "        print('{0}: {1}, with distance of {2}:'.format(i, order_with_total_count_pivot.index[indices.flatten()[i]], distances.flatten()[i]))"
   ]
  }
 ],
 "metadata": {
  "interpreter": {
   "hash": "35e3f6125f425da285e6f20cd861b81e9cc01b7ec9df6420d3ef3575f531a9d6"
  },
  "kernelspec": {
   "display_name": "Python 3.8.10 ('opencv_cuda')",
   "language": "python",
   "name": "python3"
  },
  "language_info": {
   "codemirror_mode": {
    "name": "ipython",
    "version": 3
   },
   "file_extension": ".py",
   "mimetype": "text/x-python",
   "name": "python",
   "nbconvert_exporter": "python",
   "pygments_lexer": "ipython3",
   "version": "3.8.10"
  },
  "orig_nbformat": 4
 },
 "nbformat": 4,
 "nbformat_minor": 2
}
