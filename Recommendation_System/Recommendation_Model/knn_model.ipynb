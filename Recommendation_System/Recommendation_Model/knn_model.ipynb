{
 "cells": [
  {
   "cell_type": "code",
   "execution_count": 12,
   "metadata": {},
   "outputs": [],
   "source": [
    "import mysql.connector as connection\n",
    "import pandas as pd\n",
    "import numpy as np\n",
    "import pickle"
   ]
  },
  {
   "cell_type": "code",
   "execution_count": 2,
   "metadata": {},
   "outputs": [],
   "source": [
    "# Establish connection with MySQL DB\n",
    "mydb = connection.connect(host=\"localhost\", port=\"3306\", user=\"root\", password=\"\", database=\"food_ordering_db\")"
   ]
  },
  {
   "cell_type": "code",
   "execution_count": 3,
   "metadata": {},
   "outputs": [
    {
     "name": "stdout",
     "output_type": "stream",
     "text": [
      "   foodID  restaurantID                      foodName  price\n",
      "0       1             1  Mala Grilled Burmese Chicken  10000\n",
      "1       2             1             Mala French Fries   3500\n",
      "2       3             1         Rakhine Seafood Salad   6000\n",
      "3       4             1           Steamed Chicken Leg   5000\n",
      "4       5             1            Mala Grilled Prawn  12000\n",
      "   userID firstName lastName\n",
      "0       1     James    Smith\n",
      "1       2   Michael    Smith\n",
      "2       3    Robert    Smith\n",
      "3       4     David    Smith\n",
      "4       5     James  Johnson\n"
     ]
    }
   ],
   "source": [
    "# Accessing food table\n",
    "query = \"\"\"Select *\n",
    "\t\t\t\t\t\tFROM `food`;\"\"\"\n",
    "food = pd.read_sql(query,mydb)\n",
    "print(food.head())\n",
    "\n",
    "# Accessing user table\n",
    "query = \"\"\"Select *\n",
    "\t\t\t\t\t\tFROM `user`;\"\"\"\n",
    "users = pd.read_sql(query,mydb)\n",
    "print(users.head())"
   ]
  },
  {
   "cell_type": "code",
   "execution_count": 4,
   "metadata": {},
   "outputs": [
    {
     "name": "stdout",
     "output_type": "stream",
     "text": [
      "   orderID  foodID  rating  userID\n",
      "0        1     283       3     166\n",
      "1        2    6742       4     201\n",
      "2        3    3669      10     225\n",
      "3        4    3910       2      25\n",
      "4        5     291       3     166\n",
      "['orderID', 'foodID', 'rating', 'userID']\n",
      "No. of orders -  300\n"
     ]
    }
   ],
   "source": [
    "# Accessing userID and foodID data with ratings\n",
    "query = \"\"\"Select o.foodorderID, o.foodID, o.rating, c.userID \n",
    "\t\t\t\t\t\tFROM `foodorder` o, `cart` c\n",
    "\t\t\t\t\t\tWHERE o.cartID = c.cartID;\"\"\"\n",
    "orders = pd.read_sql(query,mydb)\n",
    "print(orders.head())\n",
    "print(list(orders.columns))\n",
    "print(\"No. of orders - \", len(orders))"
   ]
  },
  {
   "cell_type": "code",
   "execution_count": 5,
   "metadata": {},
   "outputs": [
    {
     "name": "stdout",
     "output_type": "stream",
     "text": [
      "   orderID  foodID  rating  userID  restaurantID  \\\n",
      "0        1     283       3     166             7   \n",
      "1        2    6742       4     201           219   \n",
      "2        3    3669      10     225           121   \n",
      "3       33    3669       2     225           121   \n",
      "4        4    3910       2      25           129   \n",
      "\n",
      "                        foodName  price  \n",
      "0  Sour and Spicy Crab Meat Soup   4500  \n",
      "1                  Yakhine Salad    800  \n",
      "2            Plain Water Spinach   1200  \n",
      "3            Plain Water Spinach   1200  \n",
      "4                    Kiwi Yogurt   1800  \n",
      "No. of combine_food_order -  300\n"
     ]
    }
   ],
   "source": [
    "# Merge order and food queries\n",
    "combine_food_order = pd.merge(orders, food, on=\"foodID\")\n",
    "print(combine_food_order.head())\n",
    "print(\"No. of combine_food_order - \", len(combine_food_order))"
   ]
  },
  {
   "cell_type": "code",
   "execution_count": 6,
   "metadata": {},
   "outputs": [
    {
     "name": "stdout",
     "output_type": "stream",
     "text": [
      "Amount of unique foodIDs - 245\n",
      "Amount of unique userIDs - 48\n"
     ]
    }
   ],
   "source": [
    "print(f'Amount of unique foodIDs - {len(pd.unique(combine_food_order[\"foodID\"]))}')\n",
    "print(f'Amount of unique userIDs - {len(pd.unique(combine_food_order[\"userID\"]))}')"
   ]
  },
  {
   "cell_type": "code",
   "execution_count": 7,
   "metadata": {},
   "outputs": [],
   "source": [
    "with open(\"combined_food_order\" + \".csv\", \"w\") as f:\n",
    "\tf.write(combine_food_order.to_csv())"
   ]
  },
  {
   "cell_type": "markdown",
   "metadata": {},
   "source": [
    "Getting the number of times food was ordered"
   ]
  },
  {
   "cell_type": "code",
   "execution_count": 8,
   "metadata": {},
   "outputs": [
    {
     "data": {
      "text/html": [
       "<div>\n",
       "<style scoped>\n",
       "    .dataframe tbody tr th:only-of-type {\n",
       "        vertical-align: middle;\n",
       "    }\n",
       "\n",
       "    .dataframe tbody tr th {\n",
       "        vertical-align: top;\n",
       "    }\n",
       "\n",
       "    .dataframe thead th {\n",
       "        text-align: right;\n",
       "    }\n",
       "</style>\n",
       "<table border=\"1\" class=\"dataframe\">\n",
       "  <thead>\n",
       "    <tr style=\"text-align: right;\">\n",
       "      <th></th>\n",
       "      <th>foodID</th>\n",
       "      <th>totalCount</th>\n",
       "    </tr>\n",
       "  </thead>\n",
       "  <tbody>\n",
       "    <tr>\n",
       "      <th>178</th>\n",
       "      <td>5173</td>\n",
       "      <td>4</td>\n",
       "    </tr>\n",
       "    <tr>\n",
       "      <th>137</th>\n",
       "      <td>4026</td>\n",
       "      <td>4</td>\n",
       "    </tr>\n",
       "    <tr>\n",
       "      <th>123</th>\n",
       "      <td>3675</td>\n",
       "      <td>4</td>\n",
       "    </tr>\n",
       "    <tr>\n",
       "      <th>162</th>\n",
       "      <td>4917</td>\n",
       "      <td>4</td>\n",
       "    </tr>\n",
       "    <tr>\n",
       "      <th>223</th>\n",
       "      <td>6908</td>\n",
       "      <td>6</td>\n",
       "    </tr>\n",
       "  </tbody>\n",
       "</table>\n",
       "</div>"
      ],
      "text/plain": [
       "     foodID  totalCount\n",
       "178    5173           4\n",
       "137    4026           4\n",
       "123    3675           4\n",
       "162    4917           4\n",
       "223    6908           6"
      ]
     },
     "execution_count": 8,
     "metadata": {},
     "output_type": "execute_result"
    }
   ],
   "source": [
    "# combine_food_order = combine_food_order.dropna(axis = 0, subset = ['bookTitle'])\n",
    "food_order_count = (combine_food_order.\n",
    "     groupby(by = [\"foodID\"]).\n",
    "     count().\n",
    "     reset_index().\n",
    "     sort_values(by = [\"orderID\"]).\n",
    "     rename(columns = {\"orderID\": \"totalCount\"})\n",
    "     [[\"foodID\", \"totalCount\"]]\n",
    "     )\n",
    "food_order_count.tail()"
   ]
  },
  {
   "cell_type": "code",
   "execution_count": 9,
   "metadata": {},
   "outputs": [
    {
     "name": "stdout",
     "output_type": "stream",
     "text": [
      "count   245.000\n",
      "mean      1.224\n",
      "std       0.661\n",
      "min       1.000\n",
      "25%       1.000\n",
      "50%       1.000\n",
      "75%       1.000\n",
      "max       6.000\n",
      "Name: totalCount, dtype: float64\n"
     ]
    }
   ],
   "source": [
    "pd.set_option('display.float_format', lambda x: '%.3f' % x)\n",
    "print(food_order_count[\"totalCount\"].describe())"
   ]
  },
  {
   "cell_type": "code",
   "execution_count": 10,
   "metadata": {},
   "outputs": [
    {
     "name": "stdout",
     "output_type": "stream",
     "text": [
      "     orderID  foodID  rating  userID  restaurantID      foodName  price  \\\n",
      "282      271    4948       6     115           167  Noodle Salad   1200   \n",
      "288      282    3144       4     218           106  Noodle Salad    700   \n",
      "\n",
      "     totalCount  \n",
      "282           1  \n",
      "288           1  \n",
      "No. of order_with_total_count -  300\n"
     ]
    }
   ],
   "source": [
    "order_with_total_count = combine_food_order.merge(food_order_count, left_on = 'foodID', right_on = 'foodID', how = 'left')\n",
    "# order_with_total_count[\"has_ordered\"] = 1\n",
    "print(order_with_total_count.loc[order_with_total_count[\"foodName\"] == \"Noodle Salad\"])\n",
    "# order_with_total_count.head()\n",
    "print(\"No. of order_with_total_count - \", len(order_with_total_count))"
   ]
  },
  {
   "cell_type": "code",
   "execution_count": 57,
   "metadata": {},
   "outputs": [],
   "source": [
    "with open(\"order_with_total_count\" + \".csv\", \"w\") as f:\n",
    "\tf.write(order_with_total_count.to_csv())"
   ]
  },
  {
   "cell_type": "code",
   "execution_count": 17,
   "metadata": {},
   "outputs": [
    {
     "data": {
      "text/plain": [
       "NearestNeighbors(algorithm='brute', metric='cosine')"
      ]
     },
     "execution_count": 17,
     "metadata": {},
     "output_type": "execute_result"
    }
   ],
   "source": [
    "from scipy.sparse import csr_matrix\n",
    "order_with_total_count = order_with_total_count.drop_duplicates(['userID', 'foodName'])\n",
    "# order_with_total_count_pivot = order_with_total_count.pivot(index = 'foodName', columns = 'userID', values = 'has_ordered').fillna(0)\n",
    "order_with_total_count_pivot = order_with_total_count.pivot(index = 'foodName', columns = 'userID', values = 'rating').fillna(0)\n",
    "order_with_total_count_foodID_pivot = order_with_total_count.pivot(index = 'foodID', columns = 'userID', values = 'rating').fillna(0)\n",
    "order_with_total_count_matrix = csr_matrix(order_with_total_count_pivot.values)\n",
    "\n",
    "from sklearn.neighbors import NearestNeighbors\n",
    "\n",
    "\n",
    "model_knn = NearestNeighbors(metric = 'cosine', algorithm = 'brute')\n",
    "model_knn.fit(order_with_total_count_matrix)"
   ]
  },
  {
   "cell_type": "code",
   "execution_count": 18,
   "metadata": {},
   "outputs": [],
   "source": [
    "# Its important to use binary mode \n",
    "knnPickle = open('knnpickle_file', 'wb') \n",
    "# source, destination \n",
    "pickle.dump(model_knn, knnPickle)  \n",
    "# close the file\n",
    "knnPickle.close()"
   ]
  },
  {
   "cell_type": "code",
   "execution_count": 56,
   "metadata": {},
   "outputs": [],
   "source": [
    "with open(\"order_with_total_count_pivot\" + \".csv\", \"w\") as f:\n",
    "\tf.write(order_with_total_count_pivot.to_csv())\n",
    "with open(\"order_with_total_count_pivot_id\" + \".csv\", \"w\") as f:\n",
    "\tf.write(order_with_total_count_foodID_pivot.to_csv())\n",
    "with open(\"query_index_to_foodID\" + \".csv\", \"w\") as f:\n",
    "\tf.write(\"query_index,foodID\\n\")\n",
    "\tpivot_foodID_list = list(order_with_total_count_foodID_pivot.index)\n",
    "\tfor i in range(len(pivot_foodID_list)):\n",
    "\t\tf.write(f\"{i},{pivot_foodID_list[i]}\\n\")"
   ]
  },
  {
   "cell_type": "code",
   "execution_count": 23,
   "metadata": {},
   "outputs": [
    {
     "data": {
      "text/plain": [
       "array([[0., 0., 0., 0., 0., 0., 0., 0., 0., 0., 0., 0., 0., 0., 0., 0.,\n",
       "        0., 0., 0., 0., 0., 0., 0., 0., 0., 0., 0., 0., 0., 0., 6., 0.,\n",
       "        0., 0., 0., 0., 0., 0., 6., 0., 0., 0., 0., 0., 0., 0., 0., 0.]])"
      ]
     },
     "execution_count": 23,
     "metadata": {},
     "output_type": "execute_result"
    }
   ],
   "source": [
    "# query_index = np.random.choice(order_with_total_count_pivot.shape[0])\n",
    "# print(query_index)\n",
    "# query_index = 124\n",
    "query_index = 164\t\t#(points to foodID 4924 Real Milk)\n",
    "distances, indices = model_knn.kneighbors(order_with_total_count_foodID_pivot.iloc[query_index,:].values.reshape(1, -1), n_neighbors = 6)\n",
    "\n",
    "order_with_total_count_foodID_pivot.iloc[query_index,:].values.reshape(1,-1)"
   ]
  },
  {
   "cell_type": "code",
   "execution_count": 31,
   "metadata": {},
   "outputs": [
    {
     "name": "stdout",
     "output_type": "stream",
     "text": [
      "4924\n",
      "Real Milk\n"
     ]
    }
   ],
   "source": [
    "foodID = order_with_total_count_foodID_pivot.index[query_index]\n",
    "foodName = food.foodName[foodID-1]\n",
    "print(foodID)\n",
    "print(foodName)"
   ]
  },
  {
   "cell_type": "code",
   "execution_count": 35,
   "metadata": {},
   "outputs": [
    {
     "name": "stdout",
     "output_type": "stream",
     "text": [
      "Recommendations for Real Milk:\n",
      "\n",
      "1: Mandalay Mixed Fruits Yogurt, with distance of 0.10557280900008403:\n",
      "2: Mandalay Shan Noodle with Sticky Shan Noodle, with distance of 0.21064778262367367:\n",
      "3: Mandalay Rice Noodle, with distance of 0.2928932188134524:\n",
      "4: French Toast, with distance of 0.2928932188134524:\n",
      "5: Bread with Malai, with distance of 0.2928932188134524:\n"
     ]
    }
   ],
   "source": [
    "for i in range(0, len(distances.flatten())):\n",
    "    if i == 0:\n",
    "        print('Recommendations for {0}:\\n'.format(foodName))\n",
    "    else:\n",
    "        foodID = order_with_total_count_foodID_pivot.index[indices.flatten()[i]]\n",
    "        foodName = food.foodName[foodID-1]\n",
    "        print('{0}: {1}, with distance of {2}:'.format(i, foodName, distances.flatten()[i]))"
   ]
  }
 ],
 "metadata": {
  "interpreter": {
   "hash": "35e3f6125f425da285e6f20cd861b81e9cc01b7ec9df6420d3ef3575f531a9d6"
  },
  "kernelspec": {
   "display_name": "Python 3.8.10 ('opencv_cuda')",
   "language": "python",
   "name": "python3"
  },
  "language_info": {
   "codemirror_mode": {
    "name": "ipython",
    "version": 3
   },
   "file_extension": ".py",
   "mimetype": "text/x-python",
   "name": "python",
   "nbconvert_exporter": "python",
   "pygments_lexer": "ipython3",
   "version": "3.8.10"
  },
  "orig_nbformat": 4
 },
 "nbformat": 4,
 "nbformat_minor": 2
}
